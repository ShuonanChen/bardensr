{
 "cells": [
  {
   "cell_type": "code",
   "execution_count": 1,
   "metadata": {},
   "outputs": [],
   "source": [
    "%load_ext autoreload\n",
    "%autoreload 2\n",
    "import bardensr\n",
    "import IPython.display\n",
    "import tensorflow as tf\n",
    "import numpy as np\n",
    "import scipy as sp\n",
    "import scipy.spatial\n",
    "import pandas as pd\n",
    "import numpy.random as npr\n",
    "import matplotlib.pylab as plt\n",
    "%matplotlib inline\n",
    "import tqdm.notebook\n",
    "import matplotlib\n",
    "matplotlib.rcParams['image.cmap'] = 'gray'"
   ]
  },
  {
   "cell_type": "markdown",
   "metadata": {},
   "source": [
    "# Introduction to bardensr\n",
    "\n",
    "```\n",
    "multiplexing (sometimes contracted to muxing) is a method \n",
    "by which multiple analog or digital signals are combined \n",
    "into one signal over a shared medium. \n",
    "```\n",
    "\n",
    "The `bardensr` (barcode dexmixing through non-negative spatial regression) package is a collection of tools for modeling linearly multiplexed observations.  There is some true signal we are interested in, but unfortunately our observations are some linear mixture of those signals.  It currently contains only one module, `singlefov`, which was designed particularly for handling spatial transcriptomic problems."
   ]
  },
  {
   "cell_type": "markdown",
   "metadata": {},
   "source": [
    "# the singlefov module"
   ]
  },
  {
   "cell_type": "code",
   "execution_count": 2,
   "metadata": {},
   "outputs": [
    {
     "data": {
      "text/markdown": [
       "\n",
       "This module is designed for handling an observation tensor $\\mathbf{X}$ which has the following *properties*...\n",
       "\n",
       "- **TENSOR STRUCTURE:** The observations can be understood as a tensor $\\mathbf{X} \\in \\mathbb{R}^{M_1 \\times M_2 \\times M_3 \\times R \\times C}$.\n",
       "- **NON-NEGATIVITY:** Each observation is non-negative (i.e. $\\mathbf{X}_{m_1,m_2,m_3,r,c}\\geq 0$)\n",
       "\n",
       "... and which can be modeled using the following *parameters*...\n",
       "- $\\mathbf{B} \\in \\mathbb{R}^{R\\times C\\times J}$ is called the codebook\n",
       "- $\\rho \\in \\mathbb{R}^C$ is called the phasing parameter\n",
       "- $\\alpha \\in \\mathbb{R}^{R\\times C}$ is called the gain\n",
       "- $\\varphi \\in \\mathbb{R}^{C\\times C}$ is called the color-mixing\n",
       "- $\\mathbf{F} \\in \\mathbb{R}^{M_1 \\times M_2 \\times M_3 \\times J}$ is called the density\n",
       "- $\\mathbf{K} \\in \\mathbb{R}^{M_1 \\times M_2 \\times M_3 \\times M_1 \\times M_2 \\times M_3}$ is called the kernel, and it is assumed to be a 3-dimensional blur kernel.\n",
       "- $a \\in \\mathbb{R}^{M_1 \\times M_2 \\times M_3}$ is called the spatial background\n",
       "- $b \\in \\mathbb{R}^{R\\times C}$ is called the frame background\n",
       "\n",
       "... through the following *story*:\n",
       "\n",
       "1. **PHASING:** The phasing parameter defines a tensor $\\mathbf{Z}$ by letting $$\\mathbf{Z}_{r,c,j} = \\rho_c \\mathbf{Z}_{r-1,c,j} + \\mathbf{B}_{r,c,j}$$ for $r\\geq 1$.  For $r=0$ we let $\\mathbf{Z}_{0,c,j}=\\mathbf{B}_{0,c,j}$.\n",
       "1. **GAIN AND COLOR-MIXING** The gain and color-mixing parameters then give rise the tensor $$\\mathbf{G}_{r,c,j} = \\alpha_{r,c} \\sum_{c'} \\varphi_{c,c'}Z_{r,c',j}$$\n",
       "1. **OBSERVATION MODEL** The observations $\\mathbf{X}$ are approximately given by\n",
       "$$\\mathbf{X}_{m_1,m_2,m_3,r,c} \\approx \\sum_{m'_1=0}^{M_1-1}\\sum_{m'_2=0}^{M_2-1}\\sum_{m'_1=0}^{M_3-1} \\sum_{j=0}^{J-1} \\mathbf{G}_{r,c,j} \\mathbf{F}_{m'_1,m'_2,m'_3, j} \\mathbf{K}_{m_1,m_2,m_3,m'_1,m'_2,m'_3} + a_{m_1,m_2,m_3} + b_{r,c}$$\n",
       "\n",
       "All the concepts above are described in more depth in the paper ((link forthcoming!)).\n"
      ],
      "text/plain": [
       "<IPython.core.display.Markdown object>"
      ]
     },
     "execution_count": 2,
     "metadata": {},
     "output_type": "execute_result"
    }
   ],
   "source": [
    "bardensr.ipydoc(bardensr.singlefov,saynm=False,strip4=False)"
   ]
  },
  {
   "cell_type": "markdown",
   "metadata": {},
   "source": [
    "### What's in the box?\n",
    "\n",
    "The singlefov has two functions:\n",
    "\n",
    "- `simulate` -- this function simulates an example observation tensor $\\mathbf{X}$ (according to the model above)\n",
    "- `process` -- this function takes $\\mathbf{X},\\mathbf{B}$ (and several other optional parameters) as input, and tries to guess what $\\mathbf{F}$ was (according to the model above)"
   ]
  },
  {
   "cell_type": "code",
   "execution_count": 38,
   "metadata": {},
   "outputs": [
    {
     "data": {
      "text/markdown": [
       "\n",
       " ### `simulate`\n",
       "\n",
       "Simulates an observation tensor according to the singlefov model (described above).\n",
       "\n",
       "Input:\n",
       "- spatial_dims -- m1,m2,m3\n",
       "- rolony_size -- magnitude of the blur kernel K\n",
       "- n_rounds -- R\n",
       "- n_channels -- C\n",
       "- codebook -- see below\n",
       "- genedistr -- when creating F, the number of nonzero entries in F\n",
       "will be distributed so that $\\sum_{m_1,m_2,m_3} F_{m_1,m_2,m_3,j} \\propto \\mathtt{genedistr}_j$\n",
       "- n_rolonies -- number of nonzero entries in F\n",
       "- required_hamdst -- see below\n",
       "- noise -- magnitude of noise which causes observations to deviate from model\n",
       "- scale_lo -- lowest magnitude of signal in F\n",
       "- scale_hi -- highest magnitude of signal in F\n",
       "\n",
       "Output: a dictionary with\n",
       "- data: a M1 x M2 x M3 x R x C tensor\n",
       "- ground_truth_densities: sparse representation of the nonzero entries in F\n",
       "- codebook: the codebook B used to generate data\n",
       "\n",
       "a word on the codebook.  this parameter can have one of two types:\n",
       "1. if codebook == 'one-hot' it will make up a codebook with the right\n",
       "number of rounds and channels.  it will require that all the codes are\n",
       "at least required_hamdst different from each other, and it will assume\n",
       "that the codebook is binary and (np.sum(codebook,1)==1).all().\n",
       "2. if codebook is an array, R,C,required_hamdst will be ignored, and\n",
       "we will just use the given codebook\n",
       "\n"
      ],
      "text/plain": [
       "<IPython.core.display.Markdown object>"
      ]
     },
     "execution_count": 38,
     "metadata": {},
     "output_type": "execute_result"
    }
   ],
   "source": [
    "bardensr.ipydoc(bardensr.singlefov.simulate)"
   ]
  },
  {
   "cell_type": "code",
   "execution_count": 43,
   "metadata": {},
   "outputs": [],
   "source": [
    "# make a simulation\n",
    "sim=bardensr.singlefov.simulate(\n",
    "    spatial_dims=(200,200,1),\n",
    "    n_barcodes=20,\n",
    "    n_rolonies=4000,\n",
    "    scale_lo=1,\n",
    "    scale_hi=1.5,\n",
    "    noise=.000001\n",
    ")"
   ]
  },
  {
   "cell_type": "code",
   "execution_count": 45,
   "metadata": {},
   "outputs": [
    {
     "data": {
      "text/html": [
       "<div>\n",
       "<style scoped>\n",
       "    .dataframe tbody tr th:only-of-type {\n",
       "        vertical-align: middle;\n",
       "    }\n",
       "\n",
       "    .dataframe tbody tr th {\n",
       "        vertical-align: top;\n",
       "    }\n",
       "\n",
       "    .dataframe thead th {\n",
       "        text-align: right;\n",
       "    }\n",
       "</style>\n",
       "<table border=\"1\" class=\"dataframe\">\n",
       "  <thead>\n",
       "    <tr style=\"text-align: right;\">\n",
       "      <th></th>\n",
       "      <th>m1</th>\n",
       "      <th>m2</th>\n",
       "      <th>m3</th>\n",
       "      <th>j</th>\n",
       "      <th>values</th>\n",
       "    </tr>\n",
       "  </thead>\n",
       "  <tbody>\n",
       "    <tr>\n",
       "      <th>0</th>\n",
       "      <td>0</td>\n",
       "      <td>11</td>\n",
       "      <td>0</td>\n",
       "      <td>0</td>\n",
       "      <td>1.184387</td>\n",
       "    </tr>\n",
       "    <tr>\n",
       "      <th>1</th>\n",
       "      <td>0</td>\n",
       "      <td>31</td>\n",
       "      <td>0</td>\n",
       "      <td>17</td>\n",
       "      <td>1.475447</td>\n",
       "    </tr>\n",
       "    <tr>\n",
       "      <th>2</th>\n",
       "      <td>0</td>\n",
       "      <td>42</td>\n",
       "      <td>0</td>\n",
       "      <td>5</td>\n",
       "      <td>1.077157</td>\n",
       "    </tr>\n",
       "    <tr>\n",
       "      <th>3</th>\n",
       "      <td>0</td>\n",
       "      <td>54</td>\n",
       "      <td>0</td>\n",
       "      <td>5</td>\n",
       "      <td>1.301996</td>\n",
       "    </tr>\n",
       "    <tr>\n",
       "      <th>4</th>\n",
       "      <td>0</td>\n",
       "      <td>67</td>\n",
       "      <td>0</td>\n",
       "      <td>11</td>\n",
       "      <td>1.430423</td>\n",
       "    </tr>\n",
       "    <tr>\n",
       "      <th>...</th>\n",
       "      <td>...</td>\n",
       "      <td>...</td>\n",
       "      <td>...</td>\n",
       "      <td>...</td>\n",
       "      <td>...</td>\n",
       "    </tr>\n",
       "    <tr>\n",
       "      <th>3983</th>\n",
       "      <td>199</td>\n",
       "      <td>136</td>\n",
       "      <td>0</td>\n",
       "      <td>19</td>\n",
       "      <td>1.257371</td>\n",
       "    </tr>\n",
       "    <tr>\n",
       "      <th>3984</th>\n",
       "      <td>199</td>\n",
       "      <td>141</td>\n",
       "      <td>0</td>\n",
       "      <td>8</td>\n",
       "      <td>1.321982</td>\n",
       "    </tr>\n",
       "    <tr>\n",
       "      <th>3985</th>\n",
       "      <td>199</td>\n",
       "      <td>147</td>\n",
       "      <td>0</td>\n",
       "      <td>19</td>\n",
       "      <td>1.444296</td>\n",
       "    </tr>\n",
       "    <tr>\n",
       "      <th>3986</th>\n",
       "      <td>199</td>\n",
       "      <td>168</td>\n",
       "      <td>0</td>\n",
       "      <td>5</td>\n",
       "      <td>1.207767</td>\n",
       "    </tr>\n",
       "    <tr>\n",
       "      <th>3987</th>\n",
       "      <td>199</td>\n",
       "      <td>188</td>\n",
       "      <td>0</td>\n",
       "      <td>9</td>\n",
       "      <td>1.453648</td>\n",
       "    </tr>\n",
       "  </tbody>\n",
       "</table>\n",
       "<p>3988 rows × 5 columns</p>\n",
       "</div>"
      ],
      "text/plain": [
       "       m1   m2  m3   j    values\n",
       "0       0   11   0   0  1.184387\n",
       "1       0   31   0  17  1.475447\n",
       "2       0   42   0   5  1.077157\n",
       "3       0   54   0   5  1.301996\n",
       "4       0   67   0  11  1.430423\n",
       "...   ...  ...  ..  ..       ...\n",
       "3983  199  136   0  19  1.257371\n",
       "3984  199  141   0   8  1.321982\n",
       "3985  199  147   0  19  1.444296\n",
       "3986  199  168   0   5  1.207767\n",
       "3987  199  188   0   9  1.453648\n",
       "\n",
       "[3988 rows x 5 columns]"
      ]
     },
     "execution_count": 45,
     "metadata": {},
     "output_type": "execute_result"
    }
   ],
   "source": [
    "# look at the positions of the the nonzero entries in the ground-truth F\n",
    "pd.DataFrame(sim['ground_truth_positions'])"
   ]
  },
  {
   "cell_type": "code",
   "execution_count": 53,
   "metadata": {},
   "outputs": [
    {
     "data": {
      "text/plain": [
       "<matplotlib.image.AxesImage at 0x7f9e62b512d0>"
      ]
     },
     "execution_count": 53,
     "metadata": {},
     "output_type": "execute_result"
    },
    {
     "data": {
      "image/png": "[encoded data removed]",
      "text/plain": [
       "<Figure size 432x288 with 1 Axes>"
      ]
     },
     "metadata": {
      "needs_background": "light"
     },
     "output_type": "display_data"
    }
   ],
   "source": [
    "# because this dataset is small we can make a dense version of F \n",
    "# which is easier to manipulate\n",
    "true_F=bardensr.singlefov.sparse2dense(**sim['ground_truth_positions'])\n",
    "\n",
    "# let's look at some of  F\n",
    "\n",
    "# look at F[m1,m2,m3,j]\n",
    "# m1 in {0..49}\n",
    "# m2 in {0..49}\n",
    "# m3 = 0\n",
    "# j = 0\n",
    "plt.imshow(true_F[:50,:50,0,0])"
   ]
  },
  {
   "cell_type": "code",
   "execution_count": 54,
   "metadata": {},
   "outputs": [
    {
     "data": {
      "text/plain": [
       "<matplotlib.colorbar.Colorbar at 0x7f9e115e1c10>"
      ]
     },
     "execution_count": 54,
     "metadata": {},
     "output_type": "execute_result"
    },
    {
     "data": {
      "image/png": "[encoded data removed]",
      "text/plain": [
       "<Figure size 432x288 with 2 Axes>"
      ]
     },
     "metadata": {
      "needs_background": "light"
     },
     "output_type": "display_data"
    }
   ],
   "source": [
    "# look at some of the simulated data\n",
    "\n",
    "# look at X[m1,m2,m3,r,c] for\n",
    "# m1,m2 in {0....49}\n",
    "# m3=0\n",
    "# r=1\n",
    "# c=2\n",
    "plt.imshow(sim['data'][:50,:50,0,1,2])\n",
    "plt.colorbar()"
   ]
  },
  {
   "cell_type": "code",
   "execution_count": 57,
   "metadata": {},
   "outputs": [
    {
     "data": {
      "text/plain": [
       "Text(0, 0.5, 'rounds')"
      ]
     },
     "execution_count": 57,
     "metadata": {},
     "output_type": "execute_result"
    },
    {
     "data": {
      "image/png": "[encoded data removed]",
      "text/plain": [
       "<Figure size 432x288 with 1 Axes>"
      ]
     },
     "metadata": {
      "needs_background": "light"
     },
     "output_type": "display_data"
    }
   ],
   "source": [
    "# look at the codebook\n",
    "\n",
    "# let's look at B[r,c,j] for \n",
    "# j=0\n",
    "# r in {0...R-1}\n",
    "# c in {0...C-1}\n",
    "plt.spy(sim['codebook'][:,:,0])\n",
    "plt.xlabel(\"channels\")\n",
    "plt.ylabel(\"rounds\")"
   ]
  },
  {
   "cell_type": "code",
   "execution_count": 58,
   "metadata": {},
   "outputs": [
    {
     "data": {
      "text/markdown": [
       "\n",
       " ### `process`\n",
       "\n",
       "Given an observation tensor X and a codebook B, try to guess F.\n",
       "\n",
       "Input:\n",
       "- X\n",
       "- B\n",
       "- blur_level=3\n",
       "- downsample_level=(10,10,2)\n",
       "- tile_size=(200,200,10)\n",
       "- phase_I_lambda=.01\n",
       "- phase_II_learn=()\n",
       "- phase_II_lambda=.1\n",
       "- n_unused_barcodes=4\n",
       "- unused_barcodes=None\n",
       "- unused_barcode_threshold_multiplier=1.0\n",
       "- unused_barcode_percentile_by_voxel=100\n",
       "- unused_barcode_percentile_by_code=100\n",
       "- tqdm_notebook=True\n",
       "\n",
       "Output: a sparse representation of where rolony densities are significant\n",
       "- vals  -- each entry represents the estimated density present at a particular place --\n",
       "- m1s   -- these represent the relevant m1 location\n",
       "- m2s   -- these represent the relevant m2 location\n",
       "- m3s   -- these represent the relevant m3 location\n",
       "- bcds -- these represent the relevant barcode\n",
       "That is, for each i, we have that the density at position m1s[i],m2s[i],m3s[i]\n",
       "corresponding to barcode bcds[i] has activity level vals[i].  The largest\n",
       "barcode indices will correspond to the unused barcodes.\n",
       "\n",
       "This algorithm proceeeds in two phases.\n",
       "- Phase I.  Downsample and learn F,alpha,varphi,rho,a,b on downsampled data.\n",
       "- Phase II.  Break into tiles.  For each tile, unused barcodes give threshold\n",
       "to discern codes which can be ignored.  Run on the reduced\n",
       "set of codes for this tile, thereby learning F,a (and, optionally, alpha,varphi,rho,b).\n",
       "We then stitch tiles back together, store resulting F as a sparse matrix.\n",
       "\n",
       "A note on the \"unused_barcodes.\"  We train the model in phase I and phase II as if\n",
       "the unused barcodes were present in the data.  We then estimate the density F.  We then\n",
       "compute the unused_barcode_threshold by\n",
       "- computing the `unused_barcode_percentile_by_voxel` percentile of the density values\n",
       "over voxels for each unused barcode\n",
       "- computing the `unused_barcodew_percentile_by_code` percentile over the resulting values\n",
       "found for each unused barcode\n",
       "- multiplying by `unused_barcode_threshold_multiplier`\n",
       "We then use this threshold as a way to help guess where density activity is high\n",
       "enough that it can be reliably understood.\n"
      ],
      "text/plain": [
       "<IPython.core.display.Markdown object>"
      ]
     },
     "execution_count": 58,
     "metadata": {},
     "output_type": "execute_result"
    }
   ],
   "source": [
    "bardensr.ipydoc(bardensr.singlefov.process)"
   ]
  },
  {
   "cell_type": "code",
   "execution_count": 80,
   "metadata": {},
   "outputs": [
    {
     "data": {
      "application/vnd.jupyter.widget-view+json": {
       "model_id": "0911921e98f74295b2c9d2a19fac76da",
       "version_major": 2,
       "version_minor": 0
      },
      "text/plain": [
       "HBox(children=(FloatProgress(value=0.0, max=10.0), HTML(value='')))"
      ]
     },
     "metadata": {},
     "output_type": "display_data"
    },
    {
     "name": "stdout",
     "output_type": "stream",
     "text": [
      "\n"
     ]
    },
    {
     "data": {
      "application/vnd.jupyter.widget-view+json": {
       "model_id": "4edd1a5d2ff0495cb3c275d689070d91",
       "version_major": 2,
       "version_minor": 0
      },
      "text/plain": [
       "HBox(children=(FloatProgress(value=0.0, max=20.0), HTML(value='')))"
      ]
     },
     "metadata": {},
     "output_type": "display_data"
    },
    {
     "name": "stdout",
     "output_type": "stream",
     "text": [
      "\n"
     ]
    },
    {
     "data": {
      "application/vnd.jupyter.widget-view+json": {
       "model_id": "e4f43e8ebf754cee9c20d6de2128a22e",
       "version_major": 2,
       "version_minor": 0
      },
      "text/plain": [
       "HBox(children=(FloatProgress(value=0.0, max=16.0), HTML(value='')))"
      ]
     },
     "metadata": {},
     "output_type": "display_data"
    },
    {
     "name": "stdout",
     "output_type": "stream",
     "text": [
      "\n"
     ]
    }
   ],
   "source": [
    "rez=bardensr.singlefov.process(\n",
    "    sim['data'],\n",
    "    sim['codebook'],\n",
    "    downsample_level=(10,10,1),\n",
    "    tile_size=(50,50,1),\n",
    "    blur_level=(3,3,0),\n",
    "    unused_barcode_threshold_multiplier=100,\n",
    "    phase_I_lambda=.00001,\n",
    "    phase_II_lambda=.00001,\n",
    "    tqdm_notebook=True,\n",
    "    tqdm_notebook_bytile=False,\n",
    ")"
   ]
  },
  {
   "cell_type": "code",
   "execution_count": 83,
   "metadata": {},
   "outputs": [
    {
     "data": {
      "image/png": "[encoded data removed]",
      "text/plain": [
       "<Figure size 288x288 with 2 Axes>"
      ]
     },
     "metadata": {
      "needs_background": "light"
     },
     "output_type": "display_data"
    }
   ],
   "source": [
    "# compare the truth to what we learned\n",
    "with bardensr.plotting.AnimAcross() as a:\n",
    "    a('Learned F')\n",
    "    F = bardensr.singlefov.sparse2dense(**rez)\n",
    "    plt.imshow(F[0:100,:100,0,0])\n",
    "    \n",
    "    a(\"True F\")\n",
    "    true_F=bardensr.singlefov.sparse2dense(**sim['ground_truth_positions'])\n",
    "    plt.imshow(true_F[:100,:100,0,0])"
   ]
  }
 ],
 "metadata": {
  "kernelspec": {
   "display_name": "Python 3",
   "language": "python",
   "name": "python3"
  },
  "language_info": {
   "codemirror_mode": {
    "name": "ipython",
    "version": 3
   },
   "file_extension": ".py",
   "mimetype": "text/x-python",
   "name": "python",
   "nbconvert_exporter": "python",
   "pygments_lexer": "ipython3",
   "version": "3.7.7"
  }
 },
 "nbformat": 4,
 "nbformat_minor": 4
}
