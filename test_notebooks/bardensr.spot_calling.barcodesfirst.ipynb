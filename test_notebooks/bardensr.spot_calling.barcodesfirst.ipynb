{
 "cells": [
  {
   "cell_type": "code",
   "execution_count": 1,
   "id": "institutional-artwork",
   "metadata": {},
   "outputs": [],
   "source": [
    "import sys\n",
    "%load_ext autoreload\n",
    "%autoreload 2\n",
    "\n",
    "import logging\n",
    "logging.basicConfig()\n",
    "\n",
    "import bardensr\n",
    "import tensorflow as tf\n",
    "import matplotlib.pylab as plt\n",
    "import collections\n",
    "import numpy as np\n",
    "import ray\n",
    "import numpy.random as npr\n",
    "import IPython.display\n",
    "import os\n",
    "import bardensr.registration.translations_tf\n",
    "import tqdm.notebook\n",
    "import bardensr.plotting\n",
    "import scipy as sp\n",
    "import skimage.feature\n",
    "import scipy.spatial\n",
    "import pkg_resources\n",
    "import bardensr.misc\n",
    "import bardensr.barcodediscovery\n",
    "import bardensr.benchmarks\n",
    "import dataclasses\n",
    "import bardensr.spot_calling.barcodesfirst\n",
    "import bardensr.preprocessing\n",
    "import bardensr.spot_calling"
   ]
  },
  {
   "cell_type": "markdown",
   "id": "central-richardson",
   "metadata": {},
   "source": [
    "# load data"
   ]
  },
  {
   "cell_type": "code",
   "execution_count": 2,
   "id": "impaired-cowboy",
   "metadata": {},
   "outputs": [],
   "source": [
    "bench=bardensr.load_example('ab701a5a-2dc3-11eb-9890-0242ac110002')\n",
    "\n",
    "# we'll be looking at X, store R,C\n",
    "X=bench.X # bardensr expects 3d tensors\n",
    "R,C=X.shape[:2]\n",
    "R,C,J=bench.codebook.shape"
   ]
  },
  {
   "cell_type": "markdown",
   "id": "impaired-example",
   "metadata": {},
   "source": [
    "# run barcodesfirst"
   ]
  },
  {
   "cell_type": "code",
   "execution_count": 3,
   "id": "beautiful-mozambique",
   "metadata": {},
   "outputs": [
    {
     "name": "stdout",
     "output_type": "stream",
     "text": [
      "fantasized rolonies\t 3\n",
      "missed rolonies\t\t 7\n",
      "discovered rolonies\t 119\n"
     ]
    }
   ],
   "source": [
    "et=bardensr.spot_calling.barcodesfirst.build_evidence_tensor(X,bench.codebook)\n",
    "spots=bardensr.spot_calling.peak_call(et,3,.75)\n",
    "fpfn=bench.rolony_fpfn(spots,5)\n",
    "\n",
    "print('fantasized rolonies\\t',fpfn.fp)\n",
    "print('missed rolonies\\t\\t',fpfn.fn)\n",
    "print('discovered rolonies\\t',len(fpfn.agreement_rolonies))\n"
   ]
  },
  {
   "cell_type": "code",
   "execution_count": null,
   "id": "future-rebound",
   "metadata": {},
   "outputs": [],
   "source": []
  }
 ],
 "metadata": {
  "kernelspec": {
   "display_name": "Python 3",
   "language": "python",
   "name": "python3"
  },
  "language_info": {
   "codemirror_mode": {
    "name": "ipython",
    "version": 3
   },
   "file_extension": ".py",
   "mimetype": "text/x-python",
   "name": "python",
   "nbconvert_exporter": "python",
   "pygments_lexer": "ipython3",
   "version": "3.8.6"
  }
 },
 "nbformat": 4,
 "nbformat_minor": 5
}
